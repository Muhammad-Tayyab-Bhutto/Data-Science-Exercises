{
 "cells": [
  {
   "cell_type": "markdown",
   "metadata": {},
   "source": [
    "# **Basic Python 1**\n",
    "The number of birds banded at a series of sampling sites has been counted by your field crew and entered into the following list. The first item in each sublist is an alphanumeric code for the site and the second value is the number of birds banded. Cut and paste the list into your assignment and then answer the following questions by printing them to the screen.\n",
    "\n",
    "data = [['A1', 28], ['A2', 32], ['A3', 1], ['A4', 0],\n",
    "        ['A5', 10], ['A6', 22], ['A7', 30], ['A8', 19],\n",
    "\t\t['B1', 145], ['B2', 27], ['B3', 36], ['B4', 25],\n",
    "\t\t['B5', 9], ['B6', 38], ['B7', 21], ['B8', 12],\n",
    "\t\t['C1', 122], ['C2', 87], ['C3', 36], ['C4', 3],\n",
    "\t\t['D1', 0], ['D2', 5], ['D3', 55], ['D4', 62],\n",
    "\t\t['D5', 98], ['D6', 32]]\n",
    "* How many sites are there?\n",
    "* How many birds were counted at the 7th site?\n",
    "* How many birds were counted at the last site?\n",
    "* What is the total number of birds counted across all sites?\n",
    "* What is the average number of birds seen on a site?\n",
    "* What is the total number of birds counted on sites with codes beginning with C? (don’t just identify this sites by eye, in the real world there could be hundreds or thousands of sites)"
   ]
  },
  {
   "cell_type": "code",
   "execution_count": 1,
   "metadata": {},
   "outputs": [],
   "source": [
    "import pandas as pd\n",
    "data = [['A1', 28], ['A2', 32], ['A3', 1], ['A4', 0],\n",
    "        ['A5', 10], ['A6', 22], ['A7', 30], ['A8', 19],\n",
    "\t\t['B1', 145], ['B2', 27], ['B3', 36], ['B4', 25],\n",
    "\t\t['B5', 9], ['B6', 38], ['B7', 21], ['B8', 12],\n",
    "\t\t['C1', 122], ['C2', 87], ['C3', 36], ['C4', 3],\n",
    "\t\t['D1', 0], ['D2', 5], ['D3', 55], ['D4', 62],\n",
    "\t\t['D5', 98], ['D6', 32]]\n",
    "df = pd.DataFrame(data, columns=['Site', 'Birds'])"
   ]
  },
  {
   "cell_type": "markdown",
   "metadata": {},
   "source": [
    "# **1. How many sites are there?**"
   ]
  },
  {
   "cell_type": "code",
   "execution_count": 2,
   "metadata": {},
   "outputs": [
    {
     "name": "stdout",
     "output_type": "stream",
     "text": [
      "Number of sites:  26\n"
     ]
    }
   ],
   "source": [
    "num_sites = df['Site'].count()\n",
    "print(\"Number of sites: \", num_sites)"
   ]
  },
  {
   "cell_type": "markdown",
   "metadata": {},
   "source": [
    "# **2. How many birds were counted at the 7th site?**"
   ]
  },
  {
   "cell_type": "code",
   "execution_count": 3,
   "metadata": {},
   "outputs": [
    {
     "name": "stdout",
     "output_type": "stream",
     "text": [
      "Birds Count at 7th:  30\n"
     ]
    }
   ],
   "source": [
    "print(\"Birds Count at 7th: \", df.loc[6, 'Birds'])"
   ]
  },
  {
   "cell_type": "markdown",
   "metadata": {},
   "source": [
    "# **3. How many birds were counted at the last site?**"
   ]
  },
  {
   "cell_type": "code",
   "execution_count": 4,
   "metadata": {},
   "outputs": [
    {
     "name": "stdout",
     "output_type": "stream",
     "text": [
      "Birds at last Site:  32\n"
     ]
    }
   ],
   "source": [
    "print(\"Birds at last Site: \", df['Birds'].iloc[-1])"
   ]
  },
  {
   "cell_type": "markdown",
   "metadata": {},
   "source": [
    "# **4. What is the total number of birds counted across all sites?**"
   ]
  },
  {
   "cell_type": "code",
   "execution_count": 5,
   "metadata": {},
   "outputs": [
    {
     "name": "stdout",
     "output_type": "stream",
     "text": [
      "Total number of birds counted across all sites? 955\n"
     ]
    }
   ],
   "source": [
    "print(\"Total number of birds counted across all sites?\", df[\"Birds\"].sum())"
   ]
  },
  {
   "cell_type": "markdown",
   "metadata": {},
   "source": [
    "# **What is the average number of birds seen on a site?**"
   ]
  },
  {
   "cell_type": "code",
   "execution_count": 6,
   "metadata": {},
   "outputs": [
    {
     "name": "stdout",
     "output_type": "stream",
     "text": [
      "The average number of birds seen on a site:  36.73076923076923\n"
     ]
    }
   ],
   "source": [
    "print(\"The average number of birds seen on a site: \", df['Birds'].mean())"
   ]
  },
  {
   "cell_type": "markdown",
   "metadata": {},
   "source": [
    "# **What is the total number of birds counted on sites with codes beginning with C?**"
   ]
  },
  {
   "cell_type": "code",
   "execution_count": 7,
   "metadata": {},
   "outputs": [
    {
     "name": "stdout",
     "output_type": "stream",
     "text": [
      "Total number of birds counted on sites with codes beginning with C: 248\n"
     ]
    }
   ],
   "source": [
    "birds_counted_on_C_sites = df.loc[df['Site'].str.startswith('C'), 'Birds'].sum()\n",
    "print(\"Total number of birds counted on sites with codes beginning with C:\", birds_counted_on_C_sites)"
   ]
  }
 ],
 "metadata": {
  "kernelspec": {
   "display_name": "Python 3",
   "language": "python",
   "name": "python3"
  },
  "language_info": {
   "codemirror_mode": {
    "name": "ipython",
    "version": 3
   },
   "file_extension": ".py",
   "mimetype": "text/x-python",
   "name": "python",
   "nbconvert_exporter": "python",
   "pygments_lexer": "ipython3",
   "version": "3.10.7"
  }
 },
 "nbformat": 4,
 "nbformat_minor": 2
}
