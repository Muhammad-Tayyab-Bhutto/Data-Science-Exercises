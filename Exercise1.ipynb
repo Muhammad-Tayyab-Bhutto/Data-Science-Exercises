{
  "nbformat": 4,
  "nbformat_minor": 0,
  "metadata": {
    "colab": {
      "provenance": [],
      "authorship_tag": "ABX9TyOdCnD8kqGNoVwe53nEZBQE",
      "include_colab_link": true
    },
    "kernelspec": {
      "name": "python3",
      "display_name": "Python 3"
    },
    "language_info": {
      "name": "python"
    }
  },
  "cells": [
    {
      "cell_type": "markdown",
      "metadata": {
        "id": "view-in-github",
        "colab_type": "text"
      },
      "source": [
        "<a href=\"https://colab.research.google.com/github/Muhammad-Tayyab-Bhutto/Data-Science-Exercises/blob/main/Exercise1.ipynb\" target=\"_parent\"><img src=\"https://colab.research.google.com/assets/colab-badge.svg\" alt=\"Open In Colab\"/></a>"
      ]
    },
    {
      "cell_type": "markdown",
      "source": [
        "# **Basic Python 1**\n",
        "The number of birds banded at a series of sampling sites has been counted by your field crew and entered into the following list. The first item in each sublist is an alphanumeric code for the site and the second value is the number of birds banded. Cut and paste the list into your assignment and then answer the following questions by printing them to the screen.\n",
        "\n",
        "data = [['A1', 28], ['A2', 32], ['A3', 1], ['A4', 0],\n",
        "        ['A5', 10], ['A6', 22], ['A7', 30], ['A8', 19],\n",
        "\t\t['B1', 145], ['B2', 27], ['B3', 36], ['B4', 25],\n",
        "\t\t['B5', 9], ['B6', 38], ['B7', 21], ['B8', 12],\n",
        "\t\t['C1', 122], ['C2', 87], ['C3', 36], ['C4', 3],\n",
        "\t\t['D1', 0], ['D2', 5], ['D3', 55], ['D4', 62],\n",
        "\t\t['D5', 98], ['D6', 32]]\n",
        "* How many sites are there?\n",
        "* How many birds were counted at the 7th site?\n",
        "* How many birds were counted at the last site?\n",
        "* What is the total number of birds counted across all sites?\n",
        "* What is the average number of birds seen on a site?\n",
        "* What is the total number of birds counted on sites with codes beginning with C? (don’t just identify this sites by eye, in the real world there could be hundreds or thousands of sites)"
      ],
      "metadata": {
        "id": "0Aam0mw2PCes"
      }
    },
    {
      "cell_type": "code",
      "execution_count": 31,
      "metadata": {
        "id": "pgE-zDBWNyqg"
      },
      "outputs": [],
      "source": [
        "import pandas as pd\n",
        "data = [['A1', 28], ['A2', 32], ['A3', 1], ['A4', 0],\n",
        "        ['A5', 10], ['A6', 22], ['A7', 30], ['A8', 19],\n",
        "\t\t['B1', 145], ['B2', 27], ['B3', 36], ['B4', 25],\n",
        "\t\t['B5', 9], ['B6', 38], ['B7', 21], ['B8', 12],\n",
        "\t\t['C1', 122], ['C2', 87], ['C3', 36], ['C4', 3],\n",
        "\t\t['D1', 0], ['D2', 5], ['D3', 55], ['D4', 62],\n",
        "\t\t['D5', 98], ['D6', 32]]\n",
        "df = pd.DataFrame(data, columns=['Site', 'Birds'])\n",
        "\n"
      ]
    },
    {
      "cell_type": "markdown",
      "source": [
        "# **1. How many sites are there?**"
      ],
      "metadata": {
        "id": "Z6ktV8SpPvqD"
      }
    },
    {
      "cell_type": "code",
      "source": [
        "num_sites = df['Site'].count()\n",
        "print(\"Number of sites: \", num_sites)"
      ],
      "metadata": {
        "colab": {
          "base_uri": "https://localhost:8080/"
        },
        "id": "lICLmV1vPuy5",
        "outputId": "932f3b8b-1703-4343-8646-55747a0c79ba"
      },
      "execution_count": 32,
      "outputs": [
        {
          "output_type": "stream",
          "name": "stdout",
          "text": [
            "Number of sites:  26\n"
          ]
        }
      ]
    },
    {
      "cell_type": "markdown",
      "source": [
        "#**2. How many birds were counted at the 7th site?**"
      ],
      "metadata": {
        "id": "HRImdi6bP0n7"
      }
    },
    {
      "cell_type": "code",
      "source": [
        "print(\"Birds Count at 7th: \", df.loc[6, 'Birds'])"
      ],
      "metadata": {
        "colab": {
          "base_uri": "https://localhost:8080/"
        },
        "id": "e-4i4dpqP60Z",
        "outputId": "8a534626-000d-4410-9392-a2389e318c4f"
      },
      "execution_count": 35,
      "outputs": [
        {
          "output_type": "stream",
          "name": "stdout",
          "text": [
            "Birds Count at 7th:  30\n"
          ]
        }
      ]
    },
    {
      "cell_type": "markdown",
      "source": [
        "# **3. How many birds were counted at the last site?**"
      ],
      "metadata": {
        "id": "TWSzhUGaR_T3"
      }
    },
    {
      "cell_type": "code",
      "source": [
        "print(\"Birds at last Site: \", df['Birds'].iloc[-1])"
      ],
      "metadata": {
        "colab": {
          "base_uri": "https://localhost:8080/"
        },
        "id": "GAdiovCbSCL1",
        "outputId": "5e81c75a-4802-4eec-bcc3-29c8172edb21"
      },
      "execution_count": 39,
      "outputs": [
        {
          "output_type": "stream",
          "name": "stdout",
          "text": [
            "Birds at last Site:  32\n"
          ]
        }
      ]
    },
    {
      "cell_type": "markdown",
      "source": [
        "# **4. What is the total number of birds counted across all sites?**"
      ],
      "metadata": {
        "id": "LICgRt59Ted1"
      }
    },
    {
      "cell_type": "code",
      "source": [
        "\n",
        "print(\"Total number of birds counted across all sites?\", df[\"Birds\"].sum())"
      ],
      "metadata": {
        "colab": {
          "base_uri": "https://localhost:8080/"
        },
        "id": "b-ktsP-fTiE9",
        "outputId": "d5f7a2ce-c7fb-4816-f196-2c3fbe6b81e2"
      },
      "execution_count": 40,
      "outputs": [
        {
          "output_type": "stream",
          "name": "stdout",
          "text": [
            "Total number of birds counted across all sites? 955\n"
          ]
        }
      ]
    },
    {
      "cell_type": "markdown",
      "source": [
        "# **What is the average number of birds seen on a site?**"
      ],
      "metadata": {
        "id": "BvgChH0_weh1"
      }
    },
    {
      "cell_type": "code",
      "source": [
        "print(\"The average number of birds seen on a site: \", df['Birds'].mean())"
      ],
      "metadata": {
        "colab": {
          "base_uri": "https://localhost:8080/"
        },
        "id": "8La84lRjwjD-",
        "outputId": "b92b9fcf-e82c-4f44-b049-88fdfdd74853"
      },
      "execution_count": 45,
      "outputs": [
        {
          "output_type": "stream",
          "name": "stdout",
          "text": [
            "The average number of birds seen on a site:  36.73076923076923\n"
          ]
        }
      ]
    },
    {
      "cell_type": "markdown",
      "source": [
        "# **What is the total number of birds counted on sites with codes beginning with C?**"
      ],
      "metadata": {
        "id": "H9vqTRTzxSN2"
      }
    },
    {
      "cell_type": "code",
      "source": [
        "birds_counted_on_C_sites = df.loc[df['Site'].str.startswith('C'), 'Birds'].sum()\n",
        "print(\"Total number of birds counted on sites with codes beginning with C:\", birds_counted_on_C_sites)"
      ],
      "metadata": {
        "colab": {
          "base_uri": "https://localhost:8080/"
        },
        "id": "sYwo1CGqxbuO",
        "outputId": "b810d26c-a738-45cc-f09a-1168b885873d"
      },
      "execution_count": 46,
      "outputs": [
        {
          "output_type": "stream",
          "name": "stdout",
          "text": [
            "Total number of birds counted on sites with codes beginning with C: 248\n"
          ]
        }
      ]
    }
  ]
}