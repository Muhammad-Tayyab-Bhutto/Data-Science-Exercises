{
  "nbformat": 4,
  "nbformat_minor": 0,
  "metadata": {
    "colab": {
      "provenance": [],
      "include_colab_link": true
    },
    "kernelspec": {
      "name": "python3",
      "display_name": "Python 3"
    },
    "language_info": {
      "name": "python"
    }
  },
  "cells": [
    {
      "cell_type": "markdown",
      "metadata": {
        "id": "view-in-github",
        "colab_type": "text"
      },
      "source": [
        "<a href=\"https://colab.research.google.com/github/Muhammad-Tayyab-Bhutto/Data-Science-Exercises/blob/main/Muhammad_TayyabWS04_SVM_K_MEANS.ipynb\" target=\"_parent\"><img src=\"https://colab.research.google.com/assets/colab-badge.svg\" alt=\"Open In Colab\"/></a>"
      ]
    },
    {
      "cell_type": "markdown",
      "source": [
        "## Artificial Intelligence Practical\n",
        "## Worksheet 04 Support Vector Machine (SVM) & K-means Clustering\n",
        "#### Dr. Asif Khan\n",
        "#### Department of Computer Science\n",
        "---\n",
        "\n",
        "This worksheet is intented to give you clear idea of SVM & K-means clustering and its practical implementation in python.\n",
        "You are required to complete all tasks and submit this worksheet with all required datasets that you have used.\n",
        "\n",
        "You can take help from online for description and implementation of your SVM & K-means clustering concepts. You are also provided with a folder containing enough support materials to complete following tasks.\n",
        "\n",
        "You all conceptual description and implementation should be on this worksheet notebook.\n",
        "\n",
        "Task 01:\n",
        "\n",
        "\n",
        "*   What is the working principle of Support Macine Machine (SVM) method? Is SVM used for classification or regression? if used for both then it performs better for which one of them?\n",
        "Also, describe following SVM terinologies:\n",
        "    * Support Vectors\n",
        "    * Hyperplane\n",
        "    * Margin\n",
        "    * Kernel\n",
        "    * Hard Margin    \n",
        "    * C    \n",
        "\n",
        "\n",
        "Task 02:\n",
        "* Implement SVM in python as a classifier on any multi-class dataset,: Also, apply Random Forest on same dataset and compare performance of both methods.\n",
        "\n",
        "\n",
        "Task 03:\n",
        "\n",
        "* What is the difference between Supervised and Un-supervised learning machine learning?\n",
        "\n",
        "Task 04\n",
        "* What is the working principle of K-means clustering method? Is SVM used for classification or regression or is it used for something else, please desscribe?  \n",
        "Also, describe following K-means terinologies and a method:\n",
        "    * K in K-means clustering\n",
        "    * Centriod in K-means clustering\n",
        "    * Elbow method\n",
        "\n",
        "Task 05:\n",
        "* Implement K-means clustering in python and apply it on any dataset that needs grouping. Also, use Elbow method to findout the optimal number of clusters for K-means clustering method.\n",
        "\n"
      ],
      "metadata": {
        "id": "X3vMCdR9FuQm"
      }
    },
    {
      "cell_type": "markdown",
      "source": [],
      "metadata": {
        "id": "WCA4Ih6wKXw4"
      }
    },
    {
      "cell_type": "markdown",
      "source": [
        "Task 01:\n",
        "\n",
        "- What is the working principle of Support Macine Machine (SVM) method? Is SVM used for classification or regression? if used for both then it performs better for which one of them? Also, describe following SVM terinologies:\n",
        " -  Support Vectors\n",
        " -  Hyperplane\n",
        " -  Margin\n",
        " -  Kernel\n",
        " -  Hard Margin\n",
        " -  C"
      ],
      "metadata": {
        "id": "oSFssa29EVkF"
      }
    },
    {
      "cell_type": "markdown",
      "source": [
        "**Support Vector Machine** (SVM) is a supervised machine learning algorithm used for classification and regression analysis. It is primarily used for classification tasks, but it can also be used for regression. However, SVM performs better in classification tasks."
      ],
      "metadata": {
        "id": "pnWQQ5BtK1WZ"
      }
    },
    {
      "cell_type": "markdown",
      "source": [
        "- Support Vectors:\n",
        "\n",
        "  -  These are the data points that lie closest to the decision boundary. They are crucial in defining the decision boundary and are the most influential points in the classification.\n",
        "\n",
        "- Hyperplane:\n",
        "  - In an n-dimensional space, a hyperplane is a subspace of dimension (n-1). In the context of SVM, it is a decision boundary that best separates the classes.\n",
        "\n",
        "- Margin:\n",
        "  - The margin is the distance between the decision boundary (hyperplane) and the nearest data points from each class. A larger margin indicates a better separation of classes.\n",
        "\n",
        "- Kernel:\n",
        "  - A kernel is a function that transforms data into a higher-dimensional space, making it easier to classify or perform regression. The kernel function can be linear, polynomial, radial basis function (RBF), or sigmoid, among others.\n",
        "\n",
        "- Hard Margin:\n",
        "  - Hard margin SVM tries to perfectly separate all data points. It's more prone to overfitting and may not perform well if the data is not linearly separable.\n",
        "\n",
        "- C:\n",
        "  - This is a regularization parameter in SVM that controls the trade-off between achieving a low error on the training data and minimizing the norm of the weights. A smaller C creates a wider margin, potentially allowing more misclassifications but potentially leading to better generalization."
      ],
      "metadata": {
        "id": "95zSopp0EqzV"
      }
    },
    {
      "cell_type": "markdown",
      "source": [],
      "metadata": {
        "id": "9_N_r3hAoyu0"
      }
    },
    {
      "cell_type": "code",
      "execution_count": 1,
      "metadata": {
        "id": "0m5-3CO4FWMT",
        "colab": {
          "base_uri": "https://localhost:8080/"
        },
        "outputId": "d96321d6-9f62-4737-b920-342d19be043b"
      },
      "outputs": [
        {
          "output_type": "stream",
          "name": "stdout",
          "text": [
            "SVM Accuracy: 0.9666666666666667\n",
            "Random Forest Accuracy: 1.0\n"
          ]
        }
      ],
      "source": [
        "from sklearn import datasets\n",
        "from sklearn.model_selection import train_test_split\n",
        "from sklearn.preprocessing import StandardScaler\n",
        "from sklearn.svm import SVC\n",
        "from sklearn.ensemble import RandomForestClassifier\n",
        "from sklearn.metrics import accuracy_score\n"
      ]
    },
    {
      "cell_type": "code",
      "source": [
        "# Load dataset\n",
        "iris = datasets.load_iris()\n",
        "X = iris.data\n",
        "y = iris.target\n",
        "\n",
        "print(iris)"
      ],
      "metadata": {
        "id": "FliPu_J5LR11"
      },
      "execution_count": null,
      "outputs": []
    },
    {
      "cell_type": "code",
      "source": [
        "# Split dataset into training and testing sets\n",
        "X_train, X_test, y_train, y_test = train_test_split(X, y, test_size=0.2, random_state=42)"
      ],
      "metadata": {
        "id": "jG9HoNKGLli5"
      },
      "execution_count": 6,
      "outputs": []
    },
    {
      "cell_type": "code",
      "source": [
        "# Standardize features\n",
        "scaler = StandardScaler()\n",
        "X_train = scaler.fit_transform(X_train)\n",
        "X_test = scaler.transform(X_test)\n"
      ],
      "metadata": {
        "id": "mt4SodhELpnG"
      },
      "execution_count": 7,
      "outputs": []
    },
    {
      "cell_type": "markdown",
      "source": [
        "SVM Classifier"
      ],
      "metadata": {
        "id": "gbm9tswoLzzw"
      }
    },
    {
      "cell_type": "code",
      "source": [
        "# SVM Classifier\n",
        "svm_clf = SVC(kernel='linear', C=1, random_state=42)\n",
        "svm_clf.fit(X_train, y_train)\n",
        "svm_predictions = svm_clf.predict(X_test)\n",
        "svm_accuracy = accuracy_score(y_test, svm_predictions)\n",
        "print(f\"SVM Accuracy: {svm_accuracy}\")\n",
        "\n"
      ],
      "metadata": {
        "colab": {
          "base_uri": "https://localhost:8080/"
        },
        "id": "h4x5xASPLwhY",
        "outputId": "0f5d8c96-3f5b-4bb6-fc27-4025bbbb1eaf"
      },
      "execution_count": 8,
      "outputs": [
        {
          "output_type": "stream",
          "name": "stdout",
          "text": [
            "SVM Accuracy: 0.9666666666666667\n"
          ]
        }
      ]
    },
    {
      "cell_type": "markdown",
      "source": [
        "Random Forest Classifier\n",
        "\n"
      ],
      "metadata": {
        "id": "EnaPKmjUL3N7"
      }
    },
    {
      "cell_type": "code",
      "source": [
        "# Random Forest Classifier\n",
        "rf_clf = RandomForestClassifier(n_estimators=100, random_state=42)\n",
        "rf_clf.fit(X_train, y_train)\n",
        "rf_predictions = rf_clf.predict(X_test)\n",
        "rf_accuracy = accuracy_score(y_test, rf_predictions)\n",
        "print(f\"Random Forest Accuracy: {rf_accuracy}\")"
      ],
      "metadata": {
        "colab": {
          "base_uri": "https://localhost:8080/"
        },
        "id": "CO39HvpcL6Al",
        "outputId": "1f60fbd6-66b5-4d68-d6d0-29204a81ac43"
      },
      "execution_count": 9,
      "outputs": [
        {
          "output_type": "stream",
          "name": "stdout",
          "text": [
            "Random Forest Accuracy: 1.0\n"
          ]
        }
      ]
    },
    {
      "cell_type": "markdown",
      "source": [
        "Task 03:\n",
        "\n",
        "* What is the difference between Supervised and Un-supervised learning machine learning?"
      ],
      "metadata": {
        "id": "P2icqhqTMoNL"
      }
    },
    {
      "cell_type": "markdown",
      "source": [
        "- Supervised Learning:\n",
        "\n",
        " - Involves training a model using labeled data. The model learns to predict the output based on the input data. Examples include classification and regression tasks.\n",
        "\n",
        "\n",
        "- Unsupervised Learning:\n",
        " - Deals with unlabeled data and aims to identify patterns or structures within the data. Examples include clustering and dimensionality reduction."
      ],
      "metadata": {
        "id": "toxQr9paMRN3"
      }
    },
    {
      "cell_type": "markdown",
      "source": [
        "Task 04\n",
        "* What is the working principle of K-means clustering method? Is SVM used for classification or regression or is it used for something else, please desscribe?  \n",
        "Also, describe following K-means terinologies and a method:\n",
        "    * K in K-means clustering\n",
        "    * Centriod in K-means clustering\n",
        "    * Elbow method"
      ],
      "metadata": {
        "id": "-1kGGtTrMUiF"
      }
    },
    {
      "cell_type": "markdown",
      "source": [
        "K-means Clustering is an unsupervised learning algorithm used for clustering.\n",
        "\n",
        " - K in K-means:\n",
        "    - K represents the number of clusters you want to create.\n",
        "    - Centroid in K-means: The centroid is the central point of each cluster, calculated as the mean of all data points in the cluster.\n",
        "    - Elbow Method: This method is used to determine the optimal number of clusters. It involves plotting the explained variation as a function of the number of clusters, and picking the elbow of the curve as the number of clusters to use."
      ],
      "metadata": {
        "id": "q0oJ3BZDMwRp"
      }
    },
    {
      "cell_type": "markdown",
      "source": [],
      "metadata": {
        "id": "DbN25ogANLUO"
      }
    },
    {
      "cell_type": "code",
      "source": [
        "from sklearn.cluster import KMeans\n",
        "from sklearn.datasets import make_blobs\n",
        "import matplotlib.pyplot as plt"
      ],
      "metadata": {
        "id": "aQe6Oyn9NL5B"
      },
      "execution_count": 11,
      "outputs": []
    },
    {
      "cell_type": "code",
      "source": [
        "\n",
        "# Generate a sample dataset\n",
        "X, _ = make_blobs(n_samples=500, centers=5, n_features=2, random_state=42)"
      ],
      "metadata": {
        "id": "A1wnmNwaNPwo"
      },
      "execution_count": 12,
      "outputs": []
    },
    {
      "cell_type": "code",
      "source": [
        "\n",
        "# Create a range of possible values for k\n",
        "k_values = range(1, 10)\n",
        "\n",
        "# List to hold the results (distortions)\n",
        "distortions = []\n",
        "\n",
        "# Calculate distortion for each k\n",
        "for k in k_values:\n",
        "    # kmeans = KMeans(n_clusters=k, random_state=42).fit(X)\n",
        "    kmeans = KMeans(n_clusters=k, n_init=10, random_state=42).fit(X)\n",
        "    distortions.append(kmeans.inertia_)\n"
      ],
      "metadata": {
        "id": "zpEpbHyWNUk7"
      },
      "execution_count": 19,
      "outputs": []
    },
    {
      "cell_type": "code",
      "source": [
        "# Plot the elbow method\n",
        "plt.plot(k_values, distortions, 'bx-')\n",
        "plt.xlabel('k')\n",
        "plt.ylabel('Distortion')\n",
        "plt.title('The Elbow Method showing the optimal k')\n",
        "plt.show()\n"
      ],
      "metadata": {
        "colab": {
          "base_uri": "https://localhost:8080/",
          "height": 472
        },
        "id": "YJf1nGrFNmwQ",
        "outputId": "eadefd7a-397b-4eea-964f-07ce023405ee"
      },
      "execution_count": 20,
      "outputs": [
        {
          "output_type": "display_data",
          "data": {
            "text/plain": [
              "<Figure size 640x480 with 1 Axes>"
            ],
            "image/png": "[encoded data removed]"
          },
          "metadata": {}
        }
      ]
    }
  ]
}